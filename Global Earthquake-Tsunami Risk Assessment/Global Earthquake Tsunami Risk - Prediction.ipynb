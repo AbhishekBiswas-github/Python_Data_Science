{
 "cells": [
  {
   "cell_type": "markdown",
   "id": "78b30848-33f0-4274-a857-ed45cfd2a633",
   "metadata": {},
   "source": [
    "# Global Earthquake Tsunami Risk - Prediction"
   ]
  },
  {
   "cell_type": "markdown",
   "id": "a101d5de-6bc9-4051-81b9-e98ca3f6fb43",
   "metadata": {},
   "source": [
    "## Importing the required libraries"
   ]
  },
  {
   "cell_type": "code",
   "execution_count": 1,
   "id": "f5963ec3-73b1-47e8-b7f8-e22b09c63c31",
   "metadata": {},
   "outputs": [],
   "source": [
    "import numpy as np\n",
    "import tensorflow as tf\n",
    "import pandas as pd"
   ]
  },
  {
   "cell_type": "markdown",
   "id": "346fa4d7-d46e-4ab9-8f52-8707f55ff44a",
   "metadata": {},
   "source": [
    "## Importing the model"
   ]
  },
  {
   "cell_type": "code",
   "execution_count": 2,
   "id": "a6e52968-c266-4dae-8ed3-82ec46f7aeb4",
   "metadata": {},
   "outputs": [],
   "source": [
    "model = tf.keras.models.load_model('Earthquake.keras')"
   ]
  },
  {
   "cell_type": "markdown",
   "id": "179416cc-4f1a-47ca-abe3-d5a79bf60ada",
   "metadata": {},
   "source": [
    "## Entering the data entered by user"
   ]
  },
  {
   "cell_type": "code",
   "execution_count": 10,
   "id": "3d384764-91d5-4ee2-9d56-3a68145db6ea",
   "metadata": {},
   "outputs": [
    {
     "name": "stderr",
     "output_type": "stream",
     "text": [
      "\n",
      "KeyboardInterrupt\n",
      "\n"
     ]
    }
   ],
   "source": [
    "def user_input():\n",
    "    magnitude = float(input('Earthquake magnitude (Richter scale): ')),\n",
    "    cdi = int(input('Community Decimal Intensity (felt intensity): ')),\n",
    "    mmi = int(input('Modified Mercalli Intensity (instrumental): ')),\n",
    "    sig = int(input('Event significance score: ')),\n",
    "    nst = int(input('Number of seismic monitoring stations: ')),\n",
    "    dmin = float(input('Distance to nearest seismic station (degrees): ')),\n",
    "    gap = float(input('Azimuthal gap between stations (degrees): ')),\n",
    "    depth = float(input('Earthquake focal depth (km): ')),\n",
    "    latitude = float(input('Epicenter latitude (WGS84): ')),\n",
    "    longitude = float(input('Epicenter longitude (WGS84): ')),\n",
    "    \n",
    "    return [[magnitude, cdi, mmi, sig, nst, dmin, gap, depth, latitude, longitude]]\n",
    "\n",
    "user_data = user_input()"
   ]
  },
  {
   "cell_type": "code",
   "execution_count": 8,
   "id": "099e1174-1392-43cc-b20d-90734d109cdd",
   "metadata": {},
   "outputs": [
    {
     "name": "stdout",
     "output_type": "stream",
     "text": [
      "\u001b[1m1/1\u001b[0m \u001b[32m━━━━━━━━━━━━━━━━━━━━\u001b[0m\u001b[37m\u001b[0m \u001b[1m0s\u001b[0m 129ms/step\n"
     ]
    },
    {
     "data": {
      "text/plain": [
       "array([[1., 0.]], dtype=float32)"
      ]
     },
     "execution_count": 8,
     "metadata": {},
     "output_type": "execute_result"
    }
   ],
   "source": [
    "prediction = model.predict(np.array(user_data))"
   ]
  },
  {
   "cell_type": "code",
   "execution_count": 9,
   "id": "1de60923-fb86-4e68-a02e-572f0ff4d046",
   "metadata": {},
   "outputs": [
    {
     "name": "stdout",
     "output_type": "stream",
     "text": [
      "\u001b[1m1/1\u001b[0m \u001b[32m━━━━━━━━━━━━━━━━━━━━\u001b[0m\u001b[37m\u001b[0m \u001b[1m0s\u001b[0m 117ms/step\n"
     ]
    },
    {
     "data": {
      "text/plain": [
       "array([0])"
      ]
     },
     "execution_count": 9,
     "metadata": {},
     "output_type": "execute_result"
    }
   ],
   "source": [
    "np.argmax(model.predict(np.array([[6.6, 8, 6, 785, 0, 2.418, 22, 33, -6.9291, 105.251]])), axis=1)"
   ]
  },
  {
   "cell_type": "code",
   "execution_count": null,
   "id": "4ff0513e-83e0-4734-b9b7-aefaa3efcc72",
   "metadata": {},
   "outputs": [],
   "source": [
    "6.8, 1, 3, 711, 136, 4.678, 22, 630.379, -25.9678, 178.363\n",
    "\n",
    "6.6, 8, 6, 785, 0, 2.418, 22, 33, -6.9291, 105.251"
   ]
  }
 ],
 "metadata": {
  "kernelspec": {
   "display_name": "Python 3 (ipykernel)",
   "language": "python",
   "name": "python3"
  },
  "language_info": {
   "codemirror_mode": {
    "name": "ipython",
    "version": 3
   },
   "file_extension": ".py",
   "mimetype": "text/x-python",
   "name": "python",
   "nbconvert_exporter": "python",
   "pygments_lexer": "ipython3",
   "version": "3.12.4"
  }
 },
 "nbformat": 4,
 "nbformat_minor": 5
}
