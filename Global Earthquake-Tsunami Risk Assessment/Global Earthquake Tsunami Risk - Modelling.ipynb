{
 "cells": [
  {
   "cell_type": "markdown",
   "id": "f3f5c44c-12d3-44fd-a294-39a3ed137130",
   "metadata": {},
   "source": [
    "# Global Earthquake Tsunami Risk - Modelling"
   ]
  },
  {
   "cell_type": "markdown",
   "id": "e18eb478-ab8b-4187-bf65-f28ea690f692",
   "metadata": {},
   "source": [
    "## Importing the required libraries"
   ]
  },
  {
   "cell_type": "code",
   "execution_count": 1,
   "id": "40c24cf9-05ff-4e94-afe9-095b59869852",
   "metadata": {},
   "outputs": [],
   "source": [
    "import numpy as np\n",
    "import tensorflow as tf"
   ]
  },
  {
   "cell_type": "markdown",
   "id": "37a51211-12ae-4fdb-9cf7-175ea34e0a1c",
   "metadata": {},
   "source": [
    "## Loading the dataset"
   ]
  },
  {
   "cell_type": "code",
   "execution_count": 2,
   "id": "154ab7ae-37ee-448c-82b1-b4426c9dedee",
   "metadata": {},
   "outputs": [],
   "source": [
    "npz = np.load('Earthquake_data_train.npz')\n",
    "\n",
    "# training datasets\n",
    "train_inputs = npz['inputs']\n",
    "train_targets = npz['targets']\n",
    "\n",
    "# validation datasets\n",
    "npx = np.load('Earthquake_data_validate.npz')\n",
    "validation_inputs = npz['inputs']\n",
    "validation_targets = npz['targets']\n",
    "\n",
    "# testing datasets\n",
    "npx = np.load('Earthquake_data_test.npz')\n",
    "test_inputs = npz['inputs']\n",
    "test_targets = npz['targets']"
   ]
  },
  {
   "cell_type": "markdown",
   "id": "6af2c72e-f583-4d38-a5cd-46428ea1e4a9",
   "metadata": {},
   "source": [
    "## Model"
   ]
  },
  {
   "cell_type": "code",
   "execution_count": 3,
   "id": "5a641021-94f4-4a2e-83b4-4c623cbb28ff",
   "metadata": {
    "scrolled": true
   },
   "outputs": [
    {
     "name": "stdout",
     "output_type": "stream",
     "text": [
      "Epoch 1/50\n",
      "5/5 - 1s - 174ms/step - accuracy: 0.5391 - loss: 0.6958 - val_accuracy: 0.6687 - val_loss: 0.6542\n",
      "Epoch 2/50\n",
      "5/5 - 0s - 16ms/step - accuracy: 0.7099 - loss: 0.6367 - val_accuracy: 0.7531 - val_loss: 0.6123\n",
      "Epoch 3/50\n",
      "5/5 - 0s - 17ms/step - accuracy: 0.7551 - loss: 0.6016 - val_accuracy: 0.7593 - val_loss: 0.5856\n",
      "Epoch 4/50\n",
      "5/5 - 0s - 16ms/step - accuracy: 0.7572 - loss: 0.5785 - val_accuracy: 0.7675 - val_loss: 0.5637\n",
      "Epoch 5/50\n",
      "5/5 - 0s - 16ms/step - accuracy: 0.7716 - loss: 0.5558 - val_accuracy: 0.7819 - val_loss: 0.5433\n",
      "Epoch 6/50\n",
      "5/5 - 0s - 16ms/step - accuracy: 0.7860 - loss: 0.5371 - val_accuracy: 0.7840 - val_loss: 0.5263\n",
      "Epoch 7/50\n",
      "5/5 - 0s - 16ms/step - accuracy: 0.7778 - loss: 0.5207 - val_accuracy: 0.7778 - val_loss: 0.5123\n",
      "Epoch 8/50\n",
      "5/5 - 0s - 16ms/step - accuracy: 0.7798 - loss: 0.5079 - val_accuracy: 0.7860 - val_loss: 0.4995\n",
      "Epoch 9/50\n",
      "5/5 - 0s - 16ms/step - accuracy: 0.7860 - loss: 0.4956 - val_accuracy: 0.7901 - val_loss: 0.4874\n",
      "Epoch 10/50\n",
      "5/5 - 0s - 16ms/step - accuracy: 0.7942 - loss: 0.4839 - val_accuracy: 0.7922 - val_loss: 0.4771\n",
      "Epoch 11/50\n",
      "5/5 - 0s - 15ms/step - accuracy: 0.7922 - loss: 0.4737 - val_accuracy: 0.7922 - val_loss: 0.4681\n",
      "Epoch 12/50\n",
      "5/5 - 0s - 15ms/step - accuracy: 0.7942 - loss: 0.4664 - val_accuracy: 0.7963 - val_loss: 0.4602\n",
      "Epoch 13/50\n",
      "5/5 - 0s - 15ms/step - accuracy: 0.7963 - loss: 0.4587 - val_accuracy: 0.7984 - val_loss: 0.4535\n",
      "Epoch 14/50\n",
      "5/5 - 0s - 14ms/step - accuracy: 0.7984 - loss: 0.4522 - val_accuracy: 0.7984 - val_loss: 0.4478\n",
      "Epoch 15/50\n",
      "5/5 - 0s - 15ms/step - accuracy: 0.7984 - loss: 0.4463 - val_accuracy: 0.7984 - val_loss: 0.4430\n",
      "Epoch 16/50\n",
      "5/5 - 0s - 16ms/step - accuracy: 0.8004 - loss: 0.4426 - val_accuracy: 0.8045 - val_loss: 0.4384\n",
      "Epoch 17/50\n",
      "5/5 - 0s - 16ms/step - accuracy: 0.8045 - loss: 0.4377 - val_accuracy: 0.8045 - val_loss: 0.4342\n",
      "Epoch 18/50\n",
      "5/5 - 0s - 12ms/step - accuracy: 0.8066 - loss: 0.4335 - val_accuracy: 0.8086 - val_loss: 0.4303\n",
      "Epoch 19/50\n",
      "5/5 - 0s - 13ms/step - accuracy: 0.8086 - loss: 0.4296 - val_accuracy: 0.8128 - val_loss: 0.4268\n",
      "Epoch 20/50\n",
      "5/5 - 0s - 16ms/step - accuracy: 0.8128 - loss: 0.4267 - val_accuracy: 0.8148 - val_loss: 0.4231\n",
      "Epoch 21/50\n",
      "5/5 - 0s - 15ms/step - accuracy: 0.8148 - loss: 0.4226 - val_accuracy: 0.8169 - val_loss: 0.4196\n",
      "Epoch 22/50\n",
      "5/5 - 0s - 15ms/step - accuracy: 0.8169 - loss: 0.4190 - val_accuracy: 0.8169 - val_loss: 0.4162\n",
      "Epoch 23/50\n",
      "5/5 - 0s - 16ms/step - accuracy: 0.8169 - loss: 0.4155 - val_accuracy: 0.8169 - val_loss: 0.4129\n",
      "Epoch 24/50\n",
      "5/5 - 0s - 15ms/step - accuracy: 0.8169 - loss: 0.4126 - val_accuracy: 0.8169 - val_loss: 0.4096\n",
      "Epoch 25/50\n",
      "5/5 - 0s - 15ms/step - accuracy: 0.8169 - loss: 0.4088 - val_accuracy: 0.8251 - val_loss: 0.4063\n",
      "Epoch 26/50\n",
      "5/5 - 0s - 16ms/step - accuracy: 0.8251 - loss: 0.4060 - val_accuracy: 0.8313 - val_loss: 0.4030\n",
      "Epoch 27/50\n",
      "5/5 - 0s - 15ms/step - accuracy: 0.8333 - loss: 0.4025 - val_accuracy: 0.8333 - val_loss: 0.3997\n",
      "Epoch 28/50\n",
      "5/5 - 0s - 15ms/step - accuracy: 0.8333 - loss: 0.3993 - val_accuracy: 0.8313 - val_loss: 0.3964\n",
      "Epoch 29/50\n",
      "5/5 - 0s - 16ms/step - accuracy: 0.8333 - loss: 0.3961 - val_accuracy: 0.8333 - val_loss: 0.3930\n",
      "Epoch 30/50\n",
      "5/5 - 0s - 16ms/step - accuracy: 0.8354 - loss: 0.3932 - val_accuracy: 0.8416 - val_loss: 0.3899\n",
      "Epoch 31/50\n",
      "5/5 - 0s - 15ms/step - accuracy: 0.8354 - loss: 0.3913 - val_accuracy: 0.8354 - val_loss: 0.3866\n",
      "Epoch 32/50\n",
      "5/5 - 0s - 15ms/step - accuracy: 0.8374 - loss: 0.3863 - val_accuracy: 0.8395 - val_loss: 0.3831\n",
      "Epoch 33/50\n",
      "5/5 - 0s - 15ms/step - accuracy: 0.8416 - loss: 0.3828 - val_accuracy: 0.8436 - val_loss: 0.3800\n",
      "Epoch 34/50\n",
      "5/5 - 0s - 17ms/step - accuracy: 0.8416 - loss: 0.3800 - val_accuracy: 0.8457 - val_loss: 0.3769\n",
      "Epoch 35/50\n",
      "5/5 - 0s - 16ms/step - accuracy: 0.8395 - loss: 0.3774 - val_accuracy: 0.8436 - val_loss: 0.3738\n",
      "Epoch 36/50\n",
      "5/5 - 0s - 16ms/step - accuracy: 0.8395 - loss: 0.3737 - val_accuracy: 0.8477 - val_loss: 0.3707\n",
      "Epoch 37/50\n",
      "5/5 - 0s - 19ms/step - accuracy: 0.8539 - loss: 0.3711 - val_accuracy: 0.8539 - val_loss: 0.3677\n",
      "Epoch 38/50\n",
      "5/5 - 0s - 16ms/step - accuracy: 0.8539 - loss: 0.3673 - val_accuracy: 0.8519 - val_loss: 0.3645\n",
      "Epoch 39/50\n",
      "5/5 - 0s - 16ms/step - accuracy: 0.8519 - loss: 0.3643 - val_accuracy: 0.8560 - val_loss: 0.3613\n",
      "Epoch 40/50\n",
      "5/5 - 0s - 16ms/step - accuracy: 0.8560 - loss: 0.3614 - val_accuracy: 0.8580 - val_loss: 0.3582\n",
      "Epoch 41/50\n",
      "5/5 - 0s - 17ms/step - accuracy: 0.8580 - loss: 0.3582 - val_accuracy: 0.8621 - val_loss: 0.3550\n",
      "Epoch 42/50\n",
      "5/5 - 0s - 15ms/step - accuracy: 0.8580 - loss: 0.3562 - val_accuracy: 0.8601 - val_loss: 0.3520\n",
      "Epoch 43/50\n",
      "5/5 - 0s - 15ms/step - accuracy: 0.8601 - loss: 0.3516 - val_accuracy: 0.8601 - val_loss: 0.3488\n",
      "Epoch 44/50\n",
      "5/5 - 0s - 16ms/step - accuracy: 0.8601 - loss: 0.3487 - val_accuracy: 0.8642 - val_loss: 0.3457\n",
      "Epoch 45/50\n",
      "5/5 - 0s - 15ms/step - accuracy: 0.8663 - loss: 0.3454 - val_accuracy: 0.8683 - val_loss: 0.3426\n",
      "Epoch 46/50\n",
      "5/5 - 0s - 15ms/step - accuracy: 0.8663 - loss: 0.3426 - val_accuracy: 0.8663 - val_loss: 0.3394\n",
      "Epoch 47/50\n",
      "5/5 - 0s - 15ms/step - accuracy: 0.8683 - loss: 0.3403 - val_accuracy: 0.8704 - val_loss: 0.3365\n",
      "Epoch 48/50\n",
      "5/5 - 0s - 15ms/step - accuracy: 0.8683 - loss: 0.3361 - val_accuracy: 0.8724 - val_loss: 0.3333\n",
      "Epoch 49/50\n",
      "5/5 - 0s - 15ms/step - accuracy: 0.8724 - loss: 0.3332 - val_accuracy: 0.8724 - val_loss: 0.3303\n",
      "Epoch 50/50\n",
      "5/5 - 0s - 17ms/step - accuracy: 0.8745 - loss: 0.3304 - val_accuracy: 0.8724 - val_loss: 0.3270\n"
     ]
    },
    {
     "data": {
      "text/plain": [
       "<keras.src.callbacks.history.History at 0x16838593170>"
      ]
     },
     "execution_count": 3,
     "metadata": {},
     "output_type": "execute_result"
    }
   ],
   "source": [
    "INPUT_LAYER_SIZE = 10\n",
    "HIDDEN_LAYER_SIZE = 50\n",
    "OUTPUT_LAYER_SIZE = 2\n",
    "\n",
    "model = tf.keras.Sequential([\n",
    "    tf.keras.layers.Dense(HIDDEN_LAYER_SIZE, activation='relu'),\n",
    "    tf.keras.layers.Dense(HIDDEN_LAYER_SIZE, activation='relu'),\n",
    "    tf.keras.layers.Dense(OUTPUT_LAYER_SIZE, activation='softmax')\n",
    "])\n",
    "\n",
    "model.compile(optimizer='adam', loss='sparse_categorical_crossentropy', metrics=['accuracy'])\n",
    "\n",
    "BATCH_SIZE = 100\n",
    "NUM_EPOCHS = 50\n",
    "\n",
    "EARLY_STOPPING = tf.keras.callbacks.EarlyStopping(patience=2)\n",
    "\n",
    "model.fit(\n",
    "    train_inputs,\n",
    "    train_targets,\n",
    "    batch_size=BATCH_SIZE,\n",
    "    callbacks=[EARLY_STOPPING],\n",
    "    validation_data=(validation_inputs, validation_targets),\n",
    "    epochs=NUM_EPOCHS,\n",
    "    verbose=2\n",
    ")"
   ]
  },
  {
   "cell_type": "markdown",
   "id": "b0d43ead-6e34-45d9-a806-fb64f6266a7c",
   "metadata": {},
   "source": [
    "## Evaluate the model"
   ]
  },
  {
   "cell_type": "code",
   "execution_count": 4,
   "id": "2411633b-16f4-47a4-afb3-1ddcf6035aac",
   "metadata": {},
   "outputs": [
    {
     "name": "stdout",
     "output_type": "stream",
     "text": [
      "\u001b[1m16/16\u001b[0m \u001b[32m━━━━━━━━━━━━━━━━━━━━\u001b[0m\u001b[37m\u001b[0m \u001b[1m0s\u001b[0m 2ms/step - accuracy: 0.8536 - loss: 0.3439 \n",
      "Test Loss: 0.33, Test Accuracy: 87.24%\n"
     ]
    }
   ],
   "source": [
    "test_loss, test_accuracy = model.evaluate(test_inputs, test_targets)\n",
    "print(f\"Test Loss: {test_loss:.2f}, Test Accuracy: {test_accuracy*100:.2f}%\")"
   ]
  },
  {
   "cell_type": "markdown",
   "id": "1c72fd92-99de-439d-8b7c-6e248723e23e",
   "metadata": {},
   "source": [
    "## Saving the model"
   ]
  },
  {
   "cell_type": "code",
   "execution_count": 5,
   "id": "10fe649a-898a-4931-b778-dc9120c2558b",
   "metadata": {},
   "outputs": [],
   "source": [
    "model.save('Earthquake.keras')"
   ]
  }
 ],
 "metadata": {
  "kernelspec": {
   "display_name": "Python 3 (ipykernel)",
   "language": "python",
   "name": "python3"
  },
  "language_info": {
   "codemirror_mode": {
    "name": "ipython",
    "version": 3
   },
   "file_extension": ".py",
   "mimetype": "text/x-python",
   "name": "python",
   "nbconvert_exporter": "python",
   "pygments_lexer": "ipython3",
   "version": "3.12.6"
  }
 },
 "nbformat": 4,
 "nbformat_minor": 5
}
