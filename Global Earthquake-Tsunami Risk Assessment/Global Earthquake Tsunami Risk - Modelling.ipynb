{
 "cells": [
  {
   "cell_type": "markdown",
   "id": "f3f5c44c-12d3-44fd-a294-39a3ed137130",
   "metadata": {},
   "source": [
    "# Global Earthquake Tsunami Risk - Modelling"
   ]
  },
  {
   "cell_type": "markdown",
   "id": "e18eb478-ab8b-4187-bf65-f28ea690f692",
   "metadata": {},
   "source": [
    "## Importing the required libraries"
   ]
  },
  {
   "cell_type": "code",
   "execution_count": 1,
   "id": "40c24cf9-05ff-4e94-afe9-095b59869852",
   "metadata": {},
   "outputs": [],
   "source": [
    "import numpy as np\n",
    "import tensorflow as tf"
   ]
  },
  {
   "cell_type": "markdown",
   "id": "37a51211-12ae-4fdb-9cf7-175ea34e0a1c",
   "metadata": {},
   "source": [
    "## Loading the dataset"
   ]
  },
  {
   "cell_type": "code",
   "execution_count": 2,
   "id": "154ab7ae-37ee-448c-82b1-b4426c9dedee",
   "metadata": {},
   "outputs": [],
   "source": [
    "npz = np.load('Earthquake_data_train.npz')\n",
    "\n",
    "# training datasets\n",
    "train_inputs = npz['inputs']\n",
    "train_targets = npz['targets']\n",
    "\n",
    "# validation datasets\n",
    "npx = np.load('Earthquake_data_validate.npz')\n",
    "validation_inputs = npz['inputs']\n",
    "validation_targets = npz['targets']\n",
    "\n",
    "# testing datasets\n",
    "npx = np.load('Earthquake_data_test.npz')\n",
    "test_inputs = npz['inputs']\n",
    "test_targets = npz['targets']"
   ]
  },
  {
   "cell_type": "markdown",
   "id": "6af2c72e-f583-4d38-a5cd-46428ea1e4a9",
   "metadata": {},
   "source": [
    "## Model"
   ]
  },
  {
   "cell_type": "code",
   "execution_count": 3,
   "id": "5a641021-94f4-4a2e-83b4-4c623cbb28ff",
   "metadata": {
    "scrolled": true
   },
   "outputs": [
    {
     "name": "stdout",
     "output_type": "stream",
     "text": [
      "Epoch 1/50\n",
      "5/5 - 5s - 920ms/step - accuracy: 0.5103 - loss: 0.7430 - val_accuracy: 0.5700 - val_loss: 0.6952\n",
      "Epoch 2/50\n",
      "5/5 - 0s - 88ms/step - accuracy: 0.6029 - loss: 0.6687 - val_accuracy: 0.6358 - val_loss: 0.6414\n",
      "Epoch 3/50\n",
      "5/5 - 0s - 87ms/step - accuracy: 0.6687 - loss: 0.6243 - val_accuracy: 0.7037 - val_loss: 0.6014\n",
      "Epoch 4/50\n",
      "5/5 - 1s - 130ms/step - accuracy: 0.7346 - loss: 0.5897 - val_accuracy: 0.7778 - val_loss: 0.5709\n",
      "Epoch 5/50\n",
      "5/5 - 1s - 124ms/step - accuracy: 0.7881 - loss: 0.5612 - val_accuracy: 0.7901 - val_loss: 0.5450\n",
      "Epoch 6/50\n",
      "5/5 - 0s - 84ms/step - accuracy: 0.7922 - loss: 0.5374 - val_accuracy: 0.7963 - val_loss: 0.5227\n",
      "Epoch 7/50\n",
      "5/5 - 0s - 83ms/step - accuracy: 0.7963 - loss: 0.5160 - val_accuracy: 0.8025 - val_loss: 0.5037\n",
      "Epoch 8/50\n",
      "5/5 - 0s - 90ms/step - accuracy: 0.8025 - loss: 0.4966 - val_accuracy: 0.8066 - val_loss: 0.4882\n",
      "Epoch 9/50\n",
      "5/5 - 0s - 80ms/step - accuracy: 0.8086 - loss: 0.4833 - val_accuracy: 0.8066 - val_loss: 0.4743\n",
      "Epoch 10/50\n",
      "5/5 - 0s - 78ms/step - accuracy: 0.8066 - loss: 0.4700 - val_accuracy: 0.8086 - val_loss: 0.4626\n",
      "Epoch 11/50\n",
      "5/5 - 0s - 88ms/step - accuracy: 0.8086 - loss: 0.4596 - val_accuracy: 0.8128 - val_loss: 0.4525\n",
      "Epoch 12/50\n",
      "5/5 - 0s - 80ms/step - accuracy: 0.8128 - loss: 0.4496 - val_accuracy: 0.8148 - val_loss: 0.4443\n",
      "Epoch 13/50\n",
      "5/5 - 0s - 78ms/step - accuracy: 0.8169 - loss: 0.4419 - val_accuracy: 0.8169 - val_loss: 0.4371\n",
      "Epoch 14/50\n",
      "5/5 - 1s - 133ms/step - accuracy: 0.8169 - loss: 0.4355 - val_accuracy: 0.8210 - val_loss: 0.4310\n",
      "Epoch 15/50\n",
      "5/5 - 0s - 80ms/step - accuracy: 0.8210 - loss: 0.4294 - val_accuracy: 0.8189 - val_loss: 0.4255\n",
      "Epoch 16/50\n",
      "5/5 - 0s - 84ms/step - accuracy: 0.8169 - loss: 0.4244 - val_accuracy: 0.8169 - val_loss: 0.4205\n",
      "Epoch 17/50\n",
      "5/5 - 0s - 73ms/step - accuracy: 0.8169 - loss: 0.4192 - val_accuracy: 0.8230 - val_loss: 0.4159\n",
      "Epoch 18/50\n",
      "5/5 - 0s - 85ms/step - accuracy: 0.8251 - loss: 0.4149 - val_accuracy: 0.8272 - val_loss: 0.4118\n",
      "Epoch 19/50\n",
      "5/5 - 0s - 88ms/step - accuracy: 0.8292 - loss: 0.4114 - val_accuracy: 0.8272 - val_loss: 0.4077\n",
      "Epoch 20/50\n",
      "5/5 - 0s - 80ms/step - accuracy: 0.8272 - loss: 0.4072 - val_accuracy: 0.8272 - val_loss: 0.4039\n",
      "Epoch 21/50\n",
      "5/5 - 0s - 84ms/step - accuracy: 0.8292 - loss: 0.4037 - val_accuracy: 0.8292 - val_loss: 0.4003\n",
      "Epoch 22/50\n",
      "5/5 - 1s - 135ms/step - accuracy: 0.8292 - loss: 0.3997 - val_accuracy: 0.8313 - val_loss: 0.3969\n",
      "Epoch 23/50\n",
      "5/5 - 1s - 124ms/step - accuracy: 0.8272 - loss: 0.3961 - val_accuracy: 0.8292 - val_loss: 0.3936\n",
      "Epoch 24/50\n",
      "5/5 - 0s - 74ms/step - accuracy: 0.8251 - loss: 0.3936 - val_accuracy: 0.8313 - val_loss: 0.3904\n",
      "Epoch 25/50\n",
      "5/5 - 0s - 82ms/step - accuracy: 0.8292 - loss: 0.3901 - val_accuracy: 0.8292 - val_loss: 0.3871\n",
      "Epoch 26/50\n",
      "5/5 - 0s - 88ms/step - accuracy: 0.8251 - loss: 0.3867 - val_accuracy: 0.8272 - val_loss: 0.3841\n",
      "Epoch 27/50\n",
      "5/5 - 0s - 89ms/step - accuracy: 0.8272 - loss: 0.3838 - val_accuracy: 0.8313 - val_loss: 0.3809\n",
      "Epoch 28/50\n",
      "5/5 - 0s - 82ms/step - accuracy: 0.8313 - loss: 0.3804 - val_accuracy: 0.8354 - val_loss: 0.3779\n",
      "Epoch 29/50\n",
      "5/5 - 0s - 86ms/step - accuracy: 0.8354 - loss: 0.3776 - val_accuracy: 0.8354 - val_loss: 0.3749\n",
      "Epoch 30/50\n",
      "5/5 - 0s - 83ms/step - accuracy: 0.8354 - loss: 0.3746 - val_accuracy: 0.8354 - val_loss: 0.3720\n",
      "Epoch 31/50\n",
      "5/5 - 0s - 75ms/step - accuracy: 0.8374 - loss: 0.3720 - val_accuracy: 0.8374 - val_loss: 0.3691\n",
      "Epoch 32/50\n",
      "5/5 - 0s - 75ms/step - accuracy: 0.8374 - loss: 0.3687 - val_accuracy: 0.8395 - val_loss: 0.3661\n",
      "Epoch 33/50\n",
      "5/5 - 1s - 129ms/step - accuracy: 0.8395 - loss: 0.3658 - val_accuracy: 0.8395 - val_loss: 0.3633\n",
      "Epoch 34/50\n",
      "5/5 - 1s - 144ms/step - accuracy: 0.8374 - loss: 0.3630 - val_accuracy: 0.8395 - val_loss: 0.3604\n",
      "Epoch 35/50\n",
      "5/5 - 0s - 88ms/step - accuracy: 0.8395 - loss: 0.3600 - val_accuracy: 0.8436 - val_loss: 0.3574\n",
      "Epoch 36/50\n",
      "5/5 - 0s - 85ms/step - accuracy: 0.8436 - loss: 0.3569 - val_accuracy: 0.8457 - val_loss: 0.3544\n",
      "Epoch 37/50\n",
      "5/5 - 1s - 114ms/step - accuracy: 0.8457 - loss: 0.3546 - val_accuracy: 0.8477 - val_loss: 0.3515\n",
      "Epoch 38/50\n",
      "5/5 - 1s - 146ms/step - accuracy: 0.8477 - loss: 0.3511 - val_accuracy: 0.8498 - val_loss: 0.3483\n",
      "Epoch 39/50\n",
      "5/5 - 0s - 89ms/step - accuracy: 0.8436 - loss: 0.3488 - val_accuracy: 0.8477 - val_loss: 0.3457\n",
      "Epoch 40/50\n",
      "5/5 - 1s - 124ms/step - accuracy: 0.8477 - loss: 0.3456 - val_accuracy: 0.8498 - val_loss: 0.3423\n",
      "Epoch 41/50\n",
      "5/5 - 0s - 85ms/step - accuracy: 0.8519 - loss: 0.3422 - val_accuracy: 0.8560 - val_loss: 0.3393\n",
      "Epoch 42/50\n",
      "5/5 - 0s - 81ms/step - accuracy: 0.8560 - loss: 0.3396 - val_accuracy: 0.8601 - val_loss: 0.3364\n",
      "Epoch 43/50\n",
      "5/5 - 0s - 82ms/step - accuracy: 0.8580 - loss: 0.3361 - val_accuracy: 0.8601 - val_loss: 0.3333\n",
      "Epoch 44/50\n",
      "5/5 - 0s - 84ms/step - accuracy: 0.8601 - loss: 0.3340 - val_accuracy: 0.8621 - val_loss: 0.3304\n",
      "Epoch 45/50\n",
      "5/5 - 0s - 88ms/step - accuracy: 0.8580 - loss: 0.3302 - val_accuracy: 0.8580 - val_loss: 0.3274\n",
      "Epoch 46/50\n",
      "5/5 - 0s - 76ms/step - accuracy: 0.8560 - loss: 0.3275 - val_accuracy: 0.8560 - val_loss: 0.3244\n",
      "Epoch 47/50\n",
      "5/5 - 0s - 74ms/step - accuracy: 0.8580 - loss: 0.3243 - val_accuracy: 0.8621 - val_loss: 0.3212\n",
      "Epoch 48/50\n",
      "5/5 - 1s - 143ms/step - accuracy: 0.8621 - loss: 0.3218 - val_accuracy: 0.8642 - val_loss: 0.3185\n",
      "Epoch 49/50\n",
      "5/5 - 1s - 119ms/step - accuracy: 0.8621 - loss: 0.3186 - val_accuracy: 0.8642 - val_loss: 0.3154\n",
      "Epoch 50/50\n",
      "5/5 - 0s - 88ms/step - accuracy: 0.8642 - loss: 0.3149 - val_accuracy: 0.8704 - val_loss: 0.3124\n"
     ]
    },
    {
     "data": {
      "text/plain": [
       "<keras.src.callbacks.history.History at 0x161925620c0>"
      ]
     },
     "execution_count": 3,
     "metadata": {},
     "output_type": "execute_result"
    }
   ],
   "source": [
    "INPUT_LAYER_SIZE = 10\n",
    "HIDDEN_LAYER_SIZE = 50\n",
    "OUTPUT_LAYER_SIZE = 2\n",
    "\n",
    "model = tf.keras.Sequential([\n",
    "    tf.keras.layers.Dense(HIDDEN_LAYER_SIZE, activation='relu'),\n",
    "    tf.keras.layers.Dense(HIDDEN_LAYER_SIZE, activation='relu'),\n",
    "    tf.keras.layers.Dense(OUTPUT_LAYER_SIZE, activation='softmax')\n",
    "])\n",
    "\n",
    "model.compile(optimizer='adam', loss='sparse_categorical_crossentropy', metrics=['accuracy'])\n",
    "\n",
    "BATCH_SIZE = 100\n",
    "NUM_EPOCHS = 50\n",
    "\n",
    "EARLY_STOPPING = tf.keras.callbacks.EarlyStopping(patience=2)\n",
    "\n",
    "model.fit(\n",
    "    train_inputs,\n",
    "    train_targets,\n",
    "    batch_size=BATCH_SIZE,\n",
    "    callbacks=[EARLY_STOPPING],\n",
    "    validation_data=(validation_inputs, validation_targets),\n",
    "    epochs=NUM_EPOCHS,\n",
    "    verbose=2\n",
    ")"
   ]
  },
  {
   "cell_type": "markdown",
   "id": "b0d43ead-6e34-45d9-a806-fb64f6266a7c",
   "metadata": {},
   "source": [
    "## Evaluate the model"
   ]
  },
  {
   "cell_type": "code",
   "execution_count": 4,
   "id": "2411633b-16f4-47a4-afb3-1ddcf6035aac",
   "metadata": {},
   "outputs": [
    {
     "name": "stdout",
     "output_type": "stream",
     "text": [
      "\u001b[1m16/16\u001b[0m \u001b[32m━━━━━━━━━━━━━━━━━━━━\u001b[0m\u001b[37m\u001b[0m \u001b[1m0s\u001b[0m 10ms/step - accuracy: 0.8678 - loss: 0.3063\n",
      "Test Loss: 0.31, Test Accuracy: 87.04%\n"
     ]
    }
   ],
   "source": [
    "test_loss, test_accuracy = model.evaluate(test_inputs, test_targets)\n",
    "print(f\"Test Loss: {test_loss:.2f}, Test Accuracy: {test_accuracy*100:.2f}%\")"
   ]
  },
  {
   "cell_type": "markdown",
   "id": "1c72fd92-99de-439d-8b7c-6e248723e23e",
   "metadata": {},
   "source": [
    "## Saving the model"
   ]
  },
  {
   "cell_type": "code",
   "execution_count": 5,
   "id": "10fe649a-898a-4931-b778-dc9120c2558b",
   "metadata": {},
   "outputs": [],
   "source": [
    "model.save('Earthquake.keras')"
   ]
  }
 ],
 "metadata": {
  "kernelspec": {
   "display_name": "Python 3 (ipykernel)",
   "language": "python",
   "name": "python3"
  },
  "language_info": {
   "codemirror_mode": {
    "name": "ipython",
    "version": 3
   },
   "file_extension": ".py",
   "mimetype": "text/x-python",
   "name": "python",
   "nbconvert_exporter": "python",
   "pygments_lexer": "ipython3",
   "version": "3.12.4"
  }
 },
 "nbformat": 4,
 "nbformat_minor": 5
}
